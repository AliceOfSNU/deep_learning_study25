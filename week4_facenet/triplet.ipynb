{
 "cells": [
  {
   "cell_type": "markdown",
   "id": "7825495a",
   "metadata": {},
   "source": [
    "## Triplet Loss\n",
    "\n",
    "- we will train a handwritten character identification network with triplet loss\n",
    "- 코드 외부 공유 금지 (오리지널 저작물을 포함하고 있습니다)"
   ]
  },
  {
   "cell_type": "code",
   "execution_count": 1,
   "id": "50d69a03",
   "metadata": {},
   "outputs": [
    {
     "name": "stderr",
     "output_type": "stream",
     "text": [
      "/home/alice/.local/lib/python3.10/site-packages/tqdm/auto.py:21: TqdmWarning: IProgress not found. Please update jupyter and ipywidgets. See https://ipywidgets.readthedocs.io/en/stable/user_install.html\n",
      "  from .autonotebook import tqdm as notebook_tqdm\n"
     ]
    }
   ],
   "source": [
    "import torch\n",
    "from torch import nn\n",
    "from torch.utils.data import Dataset, DataLoader\n",
    "import numpy as np\n",
    "import matplotlib\n",
    "from matplotlib import pyplot as plt\n",
    "from PIL import Image\n",
    "import os\n",
    "import torchvision\n",
    "import torchvision.transforms as transforms\n",
    "import random\n",
    "import torch.nn.functional as F\n",
    "from tqdm import tqdm"
   ]
  },
  {
   "cell_type": "markdown",
   "id": "97a51c15",
   "metadata": {},
   "source": [
    "### Dataset"
   ]
  },
  {
   "cell_type": "code",
   "execution_count": null,
   "id": "3a439dfd",
   "metadata": {},
   "outputs": [],
   "source": [
    "# First, get the dataset from the internet\n",
    "# just run this code\n",
    "transform = transforms.Compose([\n",
    "    transforms.Resize((105, 105)), # Omniglot images are typically 105x105\n",
    "    transforms.ToTensor(),\n",
    "    # Add more transforms as needed, e.g., transforms.Normalize\n",
    "])\n",
    "omniglot_dataset = torchvision.datasets.Omniglot(\n",
    "    root='./data',  # Specify the root directory to store the dataset\n",
    "    background=True, # Set to True for the \"background\" set, False for \"evaluation\" set\n",
    "    transform=transform,\n",
    "    download=True    # Set to True to download the dataset if not already present\n",
    ")\n"
   ]
  },
  {
   "cell_type": "code",
   "execution_count": null,
   "id": "cad418f4",
   "metadata": {},
   "outputs": [],
   "source": [
    "class OmniglotDataset(Dataset):\n",
    "    def __init__(self, data_dir):\n",
    "        super().__init__()\n",
    "        self.data_dir = data_dir\n",
    "        # TODO: append every image path into this array\n",
    "        self.paths = [] \n",
    "        # example \"Korean/character01/0643_01.png\"\n",
    "        # DO NOT include data_dir part (\"./data/omniglot-py/Korean/character01/0643_01.png\" X) \n",
    "        \n",
    "        # give each directory a unique numerical label\n",
    "        dirs = [os.path.join(*os.path.split(p)[:-1]) for p in self.paths]\n",
    "        unique_dirs = sorted(list(set(dirs)))\n",
    "        self.dir2idx = {d:idx for (idx, d) in enumerate(unique_dirs)}\n",
    "        self.labels = [self.dir2idx[d] for d in dirs]\n",
    "        self.dirs = unique_dirs\n",
    "        \n",
    "        # transforms\n",
    "        self.transforms = transforms.Compose([\n",
    "            transforms.Grayscale(num_output_channels=1),\n",
    "            transforms.ToTensor()\n",
    "        ])\n",
    "\n",
    "    def __len__(self):\n",
    "        return len(self.paths)\n",
    "        \n",
    "    def __getitem__(self, index):\n",
    "        # get the index-th image and label\n",
    "        a_image     = Image.open(os.path.join(self.data_dir, self.paths[index]))\n",
    "        a_image     = self.transforms(a_image)\n",
    "        \n",
    "        # I have split directory part and filename for you\n",
    "        a_filename  = os.path.basename(self.paths[index])   # of form '0932_02.png'\n",
    "        a_dir       = os.path.dirname(self.paths[index])    # of form 'Tifinagh/character23'\n",
    "        \n",
    "        # you can get the label from the front part of filename\n",
    "        label       = int(a_filename.split(\"_\")[0])\n",
    "        \n",
    "        # TODO: get a positive image, from the same directory(a_dir) as anchor, but a different image!\n",
    "        # one way to do this is use random.choice() from a list of paths except anchor's path.\n",
    "        # you can use the fact there are 20 images inside each folder, and the images are named _01, ... _20\n",
    "        ...\n",
    "        \n",
    "        p_image     = Image.open(...)\n",
    "        p_image     = self.transforms(p_image)\n",
    "        \n",
    "        \n",
    "        # TODO: get a negative image, from a random directory other than a_dir\n",
    "        # self.dirs contains a list of all dirs of form ['Gujarati/character01'...]\n",
    "        # you may sample from this list.\n",
    "        \n",
    "        n_image     = Image.open(...)\n",
    "        n_image     = self.transforms(n_image)\n",
    "        n_label     = ... # refer to 'label' for how to extract numerical label from path\n",
    "        \n",
    "        return a_image, p_image, n_image, label, n_label\n",
    "    "
   ]
  },
  {
   "cell_type": "markdown",
   "id": "ff7ec8c2",
   "metadata": {},
   "source": [
    "### Visualize the Dataset"
   ]
  },
  {
   "cell_type": "code",
   "execution_count": 155,
   "id": "d4c364d8",
   "metadata": {},
   "outputs": [
    {
     "name": "stdout",
     "output_type": "stream",
     "text": [
      "tensor([837, 756, 428, 948, 148, 441, 265, 677, 521, 728, 870, 710, 400, 834,\n",
      "        185, 544, 751, 236, 260, 594,  61,  46, 848, 446, 250, 523, 882, 345,\n",
      "         61, 522, 254, 215, 442, 696, 734, 672, 941, 471, 717, 858, 197,  18,\n",
      "        194, 378, 384, 232, 860, 353, 540, 544, 325, 809, 939, 769, 352, 880,\n",
      "         89, 341, 351, 901, 888, 850, 834, 647])\n"
     ]
    },
    {
     "data": {
      "image/png": "[encoded data removed]",
      "text/plain": [
       "<Figure size 640x480 with 3 Axes>"
      ]
     },
     "metadata": {},
     "output_type": "display_data"
    }
   ],
   "source": [
    "train_dataset = OmniglotDataset('data/omniglot-py/images_background')\n",
    "train_loader = DataLoader(train_dataset, batch_size=64, shuffle=True)\n",
    "\n",
    "fig, ax = plt.subplots(1, 3)\n",
    "for (a_image, p_image, n_image, label, n_label) in train_loader:\n",
    "    print(label)\n",
    "    ax[0].imshow(a_image[0].numpy().transpose(1, 2, 0), cmap='grey')\n",
    "    ax[1].imshow(p_image[0].numpy().transpose(1, 2, 0), cmap='grey')\n",
    "    ax[2].imshow(n_image[0].numpy().transpose(1, 2, 0), cmap='grey')\n",
    "    ax[0].axis('off')\n",
    "    ax[1].axis('off')\n",
    "    ax[2].axis('off')\n",
    "    break\n",
    "    "
   ]
  },
  {
   "cell_type": "markdown",
   "id": "3eb7df9d",
   "metadata": {},
   "source": [
    "### defining the model"
   ]
  },
  {
   "cell_type": "code",
   "execution_count": 167,
   "id": "582b7f2a",
   "metadata": {},
   "outputs": [],
   "source": [
    "class Network(nn.Module):\n",
    "    def __init__(self):\n",
    "        super().__init__()\n",
    "        self.conv = nn.Sequential(\n",
    "            nn.Conv2d(1, 32, 2, padding=\"same\"),\n",
    "            nn.ReLU(),\n",
    "            nn.MaxPool2d((4, 4), stride=4),\n",
    "            nn.Conv2d(32, 32, 2, padding=\"same\"),\n",
    "            nn.ReLU(),\n",
    "            nn.MaxPool2d((4, 4), stride=4),\n",
    "            nn.Conv2d(32, 32, 2, padding=\"same\"),\n",
    "            nn.ReLU(),\n",
    "            nn.MaxPool2d((4, 4), stride=4)\n",
    "        )\n",
    "        \n",
    "    def forward(self, x):\n",
    "        x = self.conv(x)\n",
    "        return x.flatten(1)\n",
    "    "
   ]
  },
  {
   "cell_type": "code",
   "execution_count": 239,
   "id": "54901280",
   "metadata": {},
   "outputs": [],
   "source": [
    "model = Network().cuda()"
   ]
  },
  {
   "cell_type": "markdown",
   "id": "bb23a826",
   "metadata": {},
   "source": [
    "### implement random batch-negative sampling"
   ]
  },
  {
   "cell_type": "code",
   "execution_count": 180,
   "id": "16852733",
   "metadata": {},
   "outputs": [],
   "source": [
    "# we will be using the euclidean distance as the similarity metric\n",
    "\n",
    "def similarity_metric(x, y):\n",
    "    return (x - y).square().mean(dim=-1)"
   ]
  },
  {
   "cell_type": "code",
   "execution_count": 173,
   "id": "23a6e2ee",
   "metadata": {},
   "outputs": [],
   "source": [
    "MARGIN = 0.2"
   ]
  },
  {
   "cell_type": "code",
   "execution_count": null,
   "id": "8add8a68",
   "metadata": {},
   "outputs": [],
   "source": [
    "# DO NOT CHANGE THIS CELL\n",
    "# this cell performs the verification task\n",
    "# see what score you get!\n",
    "data_dir = \"data/omniglot-py/images_background\"\n",
    "\n",
    "unknown_paths = []\n",
    "unknown_labels = []\n",
    "known_paths = []\n",
    "known_labels = []\n",
    "\n",
    "for top_dir in os.listdir(data_dir):\n",
    "    for char_dir in os.listdir(os.path.join(data_dir, top_dir)):\n",
    "        file_dir = os.path.join(data_dir, top_dir, char_dir)\n",
    "        for i, filename in enumerate(os.listdir(file_dir)):\n",
    "            label = int(filename.split(\"_\")[0])\n",
    "            if i == 0:\n",
    "                unknown_paths.append(os.path.join(file_dir, filename))\n",
    "                unknown_labels.append(label)\n",
    "            elif i == 1:\n",
    "                known_paths.append(os.path.join(file_dir, filename))\n",
    "                known_labels.append(label)\n",
    "            else:\n",
    "                break\n",
    "\n",
    "unknown_images = [Image.open(p) for p in unknown_paths]\n",
    "known_images = [Image.open(p) for p in known_paths]\n",
    "\n",
    "transform = transforms.Compose([\n",
    "    transforms.Grayscale(num_output_channels=1),\n",
    "    transforms.ToTensor()\n",
    "])\n",
    "\n",
    "unknown_images = torch.stack([transform(x) for x in unknown_images])\n",
    "known_images  = torch.stack([transform(y) for y in known_images])\n",
    "unknown_labels = torch.LongTensor(unknown_labels).cuda()\n",
    "known_labels = torch.LongTensor(known_labels).cuda()\n",
    "\n",
    "\n",
    "def evaluate_model(model):\n",
    "    unknown_feats, known_feats = [], []\n",
    "    batch_size = 64\n",
    "    model.eval()\n",
    "\n",
    "    for i in range(0, unknown_images.shape[0], batch_size):\n",
    "        unknown_batch = unknown_images[i:i+batch_size] \n",
    "        with torch.no_grad():\n",
    "            unknown_feat = model.forward(unknown_batch.float().cuda())\n",
    "        unknown_feats.append(unknown_feat)\n",
    "\n",
    "    for i in range(0, known_images.shape[0], batch_size):\n",
    "        known_batch = known_images[i:i+batch_size]\n",
    "        with torch.no_grad():\n",
    "            known_feat = model.forward(known_batch.float().cuda())\n",
    "        known_feats.append(known_feat)\n",
    "\n",
    "    # Concatenate all the batches\n",
    "    unknown_feats = torch.cat(unknown_feats, dim=0)\n",
    "    known_feats = torch.cat(known_feats, dim=0)\n",
    "\n",
    "    similarity_values = torch.stack([similarity_metric(unknown_feats, known_feature) for known_feature in known_feats])\n",
    "    max_similarity_values, predictions = similarity_values.min(0) #Why are we doing an max here, where are the return values?\n",
    "    predicted_labels = known_labels[predictions]\n",
    "\n",
    "    num_correct = (predicted_labels == unknown_labels).sum()\n",
    "    accuracy = num_correct.item()/len(unknown_labels)\n",
    "    model.train()\n",
    "    \n",
    "    print(f\"eval accuracy = {accuracy*100:.4f}%\")\n",
    "    return accuracy"
   ]
  },
  {
   "cell_type": "code",
   "execution_count": null,
   "id": "44a2120b",
   "metadata": {},
   "outputs": [
    {
     "name": "stderr",
     "output_type": "stream",
     "text": [
      "100%|██████████| 302/302 [00:14<00:00, 21.24it/s]\n"
     ]
    },
    {
     "name": "stdout",
     "output_type": "stream",
     "text": [
      "epoch [0] loss=0.1998\n",
      "eval accuracy = 2.0747%\n"
     ]
    },
    {
     "name": "stderr",
     "output_type": "stream",
     "text": [
      "100%|██████████| 302/302 [00:14<00:00, 21.54it/s]\n"
     ]
    },
    {
     "name": "stdout",
     "output_type": "stream",
     "text": [
      "epoch [1] loss=0.1574\n",
      "eval accuracy = 1.9710%\n"
     ]
    },
    {
     "name": "stderr",
     "output_type": "stream",
     "text": [
      "100%|██████████| 302/302 [00:14<00:00, 21.49it/s]\n"
     ]
    },
    {
     "name": "stdout",
     "output_type": "stream",
     "text": [
      "epoch [2] loss=0.0958\n",
      "eval accuracy = 4.5643%\n"
     ]
    },
    {
     "name": "stderr",
     "output_type": "stream",
     "text": [
      "100%|██████████| 302/302 [00:14<00:00, 21.24it/s]\n"
     ]
    },
    {
     "name": "stdout",
     "output_type": "stream",
     "text": [
      "epoch [3] loss=0.0700\n",
      "eval accuracy = 7.6763%\n"
     ]
    },
    {
     "name": "stderr",
     "output_type": "stream",
     "text": [
      "100%|██████████| 302/302 [00:14<00:00, 21.09it/s]\n"
     ]
    },
    {
     "name": "stdout",
     "output_type": "stream",
     "text": [
      "epoch [4] loss=0.0522\n",
      "eval accuracy = 10.2697%\n"
     ]
    },
    {
     "name": "stderr",
     "output_type": "stream",
     "text": [
      "100%|██████████| 302/302 [00:13<00:00, 22.73it/s]\n"
     ]
    },
    {
     "name": "stdout",
     "output_type": "stream",
     "text": [
      "epoch [5] loss=0.0419\n",
      "eval accuracy = 10.6846%\n"
     ]
    },
    {
     "name": "stderr",
     "output_type": "stream",
     "text": [
      "100%|██████████| 302/302 [00:13<00:00, 22.31it/s]\n"
     ]
    },
    {
     "name": "stdout",
     "output_type": "stream",
     "text": [
      "epoch [6] loss=0.0359\n",
      "eval accuracy = 13.0705%\n"
     ]
    },
    {
     "name": "stderr",
     "output_type": "stream",
     "text": [
      "100%|██████████| 302/302 [00:14<00:00, 21.06it/s]\n"
     ]
    },
    {
     "name": "stdout",
     "output_type": "stream",
     "text": [
      "epoch [7] loss=0.0335\n",
      "eval accuracy = 14.2116%\n"
     ]
    },
    {
     "name": "stderr",
     "output_type": "stream",
     "text": [
      "100%|██████████| 302/302 [00:14<00:00, 21.48it/s]\n"
     ]
    },
    {
     "name": "stdout",
     "output_type": "stream",
     "text": [
      "epoch [8] loss=0.0284\n",
      "eval accuracy = 15.0415%\n"
     ]
    },
    {
     "name": "stderr",
     "output_type": "stream",
     "text": [
      "100%|██████████| 302/302 [00:14<00:00, 20.38it/s]"
     ]
    },
    {
     "name": "stdout",
     "output_type": "stream",
     "text": [
      "epoch [9] loss=0.0275\n",
      "eval accuracy = 16.1826%\n"
     ]
    },
    {
     "name": "stderr",
     "output_type": "stream",
     "text": [
      "\n"
     ]
    }
   ],
   "source": [
    "\n",
    "optimizer = torch.optim.SGD(model.parameters(), lr=0.05, momentum=0.9, weight_decay=1e-4)\n",
    "\n",
    "for epoch in range(10):\n",
    "    total_loss = 0.0\n",
    "    model.train()\n",
    "    for (a_image, p_image, n_image, label, n_label) in tqdm(train_loader):\n",
    "        optimizer.zero_grad()\n",
    "        a_image, p_image, n_image = a_image.cuda(), p_image.cuda(), n_image.cuda()\n",
    "        anchors     = model(a_image) # shape = [B=64, D=32]\n",
    "        positives   = model(p_image)\n",
    "        negatives   = model(n_image)\n",
    "        \n",
    "        # compute distances between (anchor, positive) and (anchor, negative)\n",
    "        # (a-b).square().mean(dim=-1)\n",
    "        ap_distance = ...\n",
    "        an_distance = ...\n",
    "        \n",
    "        # what should the triplet loss be?\n",
    "        # hint: use F.relu\n",
    "        loss        = ...\n",
    "    \n",
    "        loss.backward()\n",
    "        optimizer.step()\n",
    "        \n",
    "        total_loss += loss.item()\n",
    "    print(f\"epoch [{epoch}] loss={total_loss/len(train_loader):.4f}\")\n",
    "    evaluate_model(model)"
   ]
  },
  {
   "cell_type": "markdown",
   "id": "84687755",
   "metadata": {},
   "source": [
    "### Visualizing the Result"
   ]
  },
  {
   "cell_type": "code",
   "execution_count": null,
   "id": "602bb818",
   "metadata": {},
   "outputs": [
    {
     "name": "stdout",
     "output_type": "stream",
     "text": [
      "torch.Size([32, 1])\n",
      "d_pos=0.28959375619888306\n",
      "d_neg=1.003736138343811\n"
     ]
    },
    {
     "data": {
      "image/png": "[encoded data removed]",
      "text/plain": [
       "<Figure size 640x480 with 3 Axes>"
      ]
     },
     "metadata": {},
     "output_type": "display_data"
    }
   ],
   "source": [
    "a_image, p_image, n_image, labels, n_labels = train_dataset[0]\n",
    "fig, ax = plt.subplots(1, 3)\n",
    "ax[0].imshow(a_image.numpy().transpose(1, 2, 0), cmap='grey')\n",
    "ax[1].imshow(p_image.numpy().transpose(1, 2, 0), cmap='grey')\n",
    "ax[2].imshow(n_image.numpy().transpose(1, 2, 0), cmap='grey')\n",
    "ax[0].axis('off')\n",
    "ax[1].axis('off')\n",
    "ax[2].axis('off')\n",
    "\n",
    "a_image, p_image, n_image = a_image.cuda(), p_image.cuda(), n_image.cuda()\n",
    "model.eval()\n",
    "with torch.no_grad():\n",
    "    anchors     = model(a_image)\n",
    "    positives   = model(p_image)\n",
    "    negatives   = model(n_image)\n",
    "\n",
    "# compute distances between (anchor, positive) and (anchor, negative)\n",
    "ap_distance = (anchors - positives).square().mean()\n",
    "an_distance = (anchors - negatives).square().mean()\n",
    "\n",
    "print(f\"d_pos={ap_distance.item()}\")\n",
    "print(f\"d_neg={an_distance.item()}\")"
   ]
  },
  {
   "cell_type": "markdown",
   "id": "994817ce",
   "metadata": {},
   "source": [
    "### Hard Negative Mining"
   ]
  },
  {
   "cell_type": "markdown",
   "id": "8872be06",
   "metadata": {},
   "source": [
    "In the last part of the session, you will implement an online (batch) version of hard negative mining. For each anchor image in a batch, find the hardest negative(closest one to the anchor) amongst other anchor images in the batch, and concatenate the hardest negatives into a training batch."
   ]
  },
  {
   "cell_type": "code",
   "execution_count": null,
   "id": "b491b8cb",
   "metadata": {},
   "outputs": [
    {
     "data": {
      "image/png": "[encoded data removed]",
      "text/plain": [
       "<Figure size 640x480 with 15 Axes>"
      ]
     },
     "metadata": {},
     "output_type": "display_data"
    }
   ],
   "source": [
    "for anchor_imgs, pos_imgs, neg_imgs, labels, n_labels in train_loader:\n",
    "    anchor_imgs, neg_imgs   = anchor_imgs.cuda(), neg_imgs.cuda()\n",
    "    # you first have to extract the features!\n",
    "    anchors                 = model(anchor_imgs)\n",
    "    hardest_negatives       = []\n",
    "    hardest_negative_labels = []\n",
    "    for i in range(len(labels)):\n",
    "        anchor_label = labels[i]\n",
    "        # TODO: from anchor_images, find the sample that is closest to the i-th sample\n",
    "        # that's the one with smallest similarity_metric value to anchors[i]\n",
    "        # append the image to hardest_negatives array, append label to the hardest_negative_labels array.\n",
    "        \n",
    "        # use nonzero() with boolean comparison (x!=y) to filter out\n",
    "        # positive samples in the batch\n",
    "        # you can use argmin() to find the index with smallest similarity_metric value.\n",
    "        hardest_negative_idx = (labels != anchor_label).nonzero(as_tuple=True)[0]\n",
    "        dists = similarity_metric(anchors[i], anchors[hardest_negative_idx])\n",
    "        hardest_negative_idx = hardest_negative_idx[dists.argmin()]\n",
    "        hardest_negatives.append(anchor_imgs[hardest_negative_idx])\n",
    "        hardest_negative_labels.append(labels[hardest_negative_idx])\n",
    "        \n",
    "        \n",
    "    hard_neg_imgs    = torch.stack(hardest_negatives)\n",
    "    hard_neg_labels  = torch.stack(hardest_negative_labels)\n",
    "    assert (labels == hard_neg_labels).sum() == 0\n",
    "    negatives        = model(neg_imgs)\n",
    "    hard_negatives   = model(hard_neg_imgs)\n",
    "    \n",
    "    fig, ax = plt.subplots(5, 3)\n",
    "    for i in range(5):\n",
    "        ax[i, 0].imshow(anchor_imgs[i].cpu().numpy().transpose(1, 2, 0), cmap='grey')\n",
    "        ax[i, 1].imshow(neg_imgs[i].cpu().numpy().transpose(1, 2, 0), cmap='grey')\n",
    "        ax[i, 2].imshow(hard_neg_imgs[i].cpu().numpy().transpose(1, 2, 0), cmap='grey')\n",
    "        ax[i, 0].axis('off')\n",
    "        ax[i, 1].axis('off')\n",
    "        ax[i, 2].axis('off')\n",
    "        ax[i, 1].title.set_text(f\"d_neg={similarity_metric(anchors[i], negatives[i]).item():.4f}\")\n",
    "        ax[i, 2].title.set_text(f\"d_hard={similarity_metric(anchors[i], hard_negatives[i]).item():.4f}\")\n",
    "    break"
   ]
  },
  {
   "cell_type": "code",
   "execution_count": null,
   "id": "dea00e1e",
   "metadata": {},
   "outputs": [
    {
     "name": "stdout",
     "output_type": "stream",
     "text": [
      "epoch [0] loss=0.2315\n",
      "eval accuracy = 19.2946%\n",
      "epoch [1] loss=0.4257\n",
      "eval accuracy = 21.0581%\n",
      "epoch [2] loss=0.6149\n",
      "eval accuracy = 24.4813%\n",
      "epoch [3] loss=0.7952\n",
      "eval accuracy = 25.9336%\n",
      "epoch [4] loss=0.9697\n",
      "eval accuracy = 25.6224%\n"
     ]
    }
   ],
   "source": [
    "# train with hard negative sampling..\n",
    "for epoch in range(5):\n",
    "    model.train()\n",
    "    for anchor_imgs, pos_imgs, neg_imgs, labels, n_labels in tqdm(train_loader):\n",
    "        optimizer.zero_grad()\n",
    "        anchor_imgs, pos_imgs, neg_imgs  = anchor_imgs.cuda(), pos_imgs.cuda(), neg_imgs.cuda()\n",
    "        # you first have to extract the features!\n",
    "        anchors = model(anchor_imgs)\n",
    "        hardest_negatives = []\n",
    "        hardest_negative_labels = []\n",
    "        for i in range(len(labels)):\n",
    "            anchor_label = labels[i]\n",
    "            # TODO: copy and paste your batch-hard-negative-mining code here\n",
    "            # REPLACE 5 LINES BELOW WITH YOUR CODE\n",
    "            hardest_negative_idx = (labels != anchor_label).nonzero(as_tuple=True)[0]\n",
    "            dists = similarity_metric(anchors[i], anchors[hardest_negative_idx])\n",
    "            hardest_negative_idx = hardest_negative_idx[dists.argmin()]\n",
    "            hardest_negatives.append(anchor_imgs[hardest_negative_idx])\n",
    "            hardest_negative_labels.append(labels[hardest_negative_idx])\n",
    "            ## REPLACE END            \n",
    "            \n",
    "        hard_neg_imgs    = torch.stack(hardest_negatives)\n",
    "        \n",
    "        positives   = model(pos_imgs)\n",
    "        negatives   = model(hard_neg_imgs)\n",
    "        \n",
    "        ap_distance = (anchors - positives).square().mean(dim = -1)\n",
    "        an_distance = (anchors - negatives).square().mean(dim = -1)\n",
    "        \n",
    "        # what should the triplet loss be?\n",
    "        loss = F.relu((ap_distance - an_distance + MARGIN)).mean()\n",
    "    \n",
    "        loss.backward()\n",
    "        optimizer.step()\n",
    "        \n",
    "        total_loss += loss.item()\n",
    "    print(f\"epoch [{epoch}] loss={total_loss/len(train_loader):.4f}\")\n",
    "    evaluate_model(model)\n"
   ]
  }
 ],
 "metadata": {
  "kernelspec": {
   "display_name": "whisper",
   "language": "python",
   "name": "python3"
  },
  "language_info": {
   "codemirror_mode": {
    "name": "ipython",
    "version": 3
   },
   "file_extension": ".py",
   "mimetype": "text/x-python",
   "name": "python",
   "nbconvert_exporter": "python",
   "pygments_lexer": "ipython3",
   "version": "3.10.16"
  }
 },
 "nbformat": 4,
 "nbformat_minor": 5
}
