{
 "cells": [
  {
   "cell_type": "code",
   "execution_count": 1,
   "id": "c539a20c",
   "metadata": {},
   "outputs": [
    {
     "name": "stderr",
     "output_type": "stream",
     "text": [
      "/home/alice/.local/lib/python3.10/site-packages/tqdm/auto.py:21: TqdmWarning: IProgress not found. Please update jupyter and ipywidgets. See https://ipywidgets.readthedocs.io/en/stable/user_install.html\n",
      "  from .autonotebook import tqdm as notebook_tqdm\n"
     ]
    }
   ],
   "source": [
    "import torch"
   ]
  },
  {
   "cell_type": "markdown",
   "id": "592cf32d",
   "metadata": {},
   "source": [
    "### Creating Tensor\n",
    "- randn\n",
    "- eye\n",
    "- arange\n",
    "- linspace\n",
    "- ones, zeros, ones_Like\n",
    "- from_numpy"
   ]
  },
  {
   "cell_type": "code",
   "execution_count": 41,
   "id": "fa899d35",
   "metadata": {},
   "outputs": [
    {
     "data": {
      "text/plain": [
       "tensor([[-1.6457,  0.0000, -0.0000],\n",
       "        [-0.0000, -0.5441, -0.0000],\n",
       "        [ 0.0000, -0.0000, -0.9620]])"
      ]
     },
     "execution_count": 41,
     "metadata": {},
     "output_type": "execute_result"
    }
   ],
   "source": [
    "x = torch.randn(3, 3)\n",
    "mask = torch.eye(3)\n",
    "x * mask"
   ]
  },
  {
   "cell_type": "code",
   "execution_count": 48,
   "id": "c6995c7f",
   "metadata": {},
   "outputs": [
    {
     "data": {
      "text/plain": [
       "(tensor([1, 1, 1, 1, 1, 1, 1, 1, 1, 1]),\n",
       " tensor([0, 0, 0, 0, 0, 0, 0, 0, 0, 0]))"
      ]
     },
     "execution_count": 48,
     "metadata": {},
     "output_type": "execute_result"
    }
   ],
   "source": [
    "ones = torch.ones((10, ), dtype=torch.int64)\n",
    "zeros = torch.zeros_like(ones)\n",
    "ones, zeros"
   ]
  },
  {
   "cell_type": "code",
   "execution_count": 72,
   "id": "0b8421ec",
   "metadata": {},
   "outputs": [
    {
     "data": {
      "text/plain": [
       "tensor([[9, 1, 1, 1],\n",
       "        [1, 5, 7, 4],\n",
       "        [1, 7, 7, 6],\n",
       "        [4, 9, 4, 0]])"
      ]
     },
     "execution_count": 72,
     "metadata": {},
     "output_type": "execute_result"
    }
   ],
   "source": [
    "import numpy as np\n",
    "x = np.random.randint(0, 10, (4, 4))\n",
    "x = torch.from_numpy(x)\n",
    "x"
   ]
  },
  {
   "cell_type": "markdown",
   "id": "56acd8ca",
   "metadata": {},
   "source": [
    "### Basic Operations\n",
    "- stack\n",
    "- cat\n",
    "- view\n",
    "- reshape\n",
    "- permute\n",
    "- split\n",
    "- chunk\n",
    "- transpose\n",
    "- squeeze, unsqueeze\n",
    "- flatten"
   ]
  },
  {
   "cell_type": "code",
   "execution_count": 78,
   "id": "aed0a3a5",
   "metadata": {},
   "outputs": [],
   "source": [
    "x0 = torch.arange(6)\n",
    "x1 = x0.flip(-1)\n",
    "x = torch.stack([x0, x1])"
   ]
  },
  {
   "cell_type": "code",
   "execution_count": 79,
   "id": "f06dc89b",
   "metadata": {},
   "outputs": [
    {
     "name": "stdout",
     "output_type": "stream",
     "text": [
      "tensor([0, 1, 2, 3, 4, 5, 0, 1, 2, 3, 4, 5])\n",
      "tensor([[0, 1, 2, 3, 4, 5],\n",
      "        [0, 1, 2, 3, 4, 5]])\n",
      "tensor([[0, 0],\n",
      "        [1, 1],\n",
      "        [2, 2],\n",
      "        [3, 3],\n",
      "        [4, 4],\n",
      "        [5, 5]])\n",
      "tensor([[2, 2],\n",
      "        [3, 3]])\n"
     ]
    }
   ],
   "source": [
    "y = torch.cat([x0, x0])\n",
    "print(y)\n",
    "y = y.view(2, -1) # -1 means autocomplete\n",
    "print(y)\n",
    "y = y.transpose(-1, -2) # can index from end\n",
    "print(y)\n",
    "(y1, y2, y3) = y.chunk(3, dim=0)\n",
    "print(y2)\n"
   ]
  },
  {
   "cell_type": "code",
   "execution_count": null,
   "id": "997b6957",
   "metadata": {},
   "outputs": [],
   "source": [
    "x = torch.randn(1, 3, 3)\n",
    "print(x)\n",
    "y = x.squeeze(0)\n",
    "print(y)\n",
    "z = y.unsqueeze(-1)\n",
    "print(z)"
   ]
  },
  {
   "cell_type": "markdown",
   "id": "8c35f0ce",
   "metadata": {},
   "source": [
    "### Tensor Properties\n",
    "- size\n",
    "- shape\n",
    "- device\n",
    "- dtype\n",
    "- numel"
   ]
  },
  {
   "cell_type": "code",
   "execution_count": 8,
   "id": "7f6864b3",
   "metadata": {},
   "outputs": [
    {
     "name": "stdout",
     "output_type": "stream",
     "text": [
      "size: 4\n",
      "shape: torch.Size([4, 5])\n",
      "device: cpu\n",
      "dtype: torch.int64\n",
      "numel: 20\n"
     ]
    }
   ],
   "source": [
    "floatTensor = torch.Tensor(4, 5)\n",
    "longTensor = torch.LongTensor(10,)\n",
    "\n",
    "# size\n",
    "print(f\"size: {floatTensor.size(0)}\")\n",
    "\n",
    "# shape\n",
    "print(f\"shape: {floatTensor.shape}\")\n",
    "\n",
    "# device\n",
    "print(f\"device: {floatTensor.device}\")\n",
    "\n",
    "# dtype\n",
    "print(f\"dtype: {longTensor.dtype}\")\n",
    "\n",
    "# numel\n",
    "print(f\"numel: {floatTensor.numel()}\")\n",
    "\n"
   ]
  },
  {
   "cell_type": "code",
   "execution_count": 70,
   "id": "05210bce",
   "metadata": {},
   "outputs": [
    {
     "data": {
      "text/plain": [
       "(torch.Size([64, 3, 24, 24]), torch.Size([64, 24, 24, 3]))"
      ]
     },
     "execution_count": 70,
     "metadata": {},
     "output_type": "execute_result"
    }
   ],
   "source": [
    "h = torch.randn(64, 3, 24, 24)\n",
    "h_channel_last = h.permute(0, 2, 3, 1)\n",
    "h.shape, h_channel_last.shape"
   ]
  },
  {
   "cell_type": "markdown",
   "id": "97a3f780",
   "metadata": {},
   "source": [
    "### Mathematical Operations\n",
    "- sum()\n",
    "- min(), max()\n",
    "- amin(), amax()\n",
    "- mean(), std()\n",
    "- exp, log, sin, cos.."
   ]
  },
  {
   "cell_type": "code",
   "execution_count": 14,
   "id": "a2201190",
   "metadata": {},
   "outputs": [
    {
     "data": {
      "text/plain": [
       "tensor([[45],\n",
       "        [45]])"
      ]
     },
     "execution_count": 14,
     "metadata": {},
     "output_type": "execute_result"
    }
   ],
   "source": [
    "x = torch.arange(10)\n",
    "x = torch.stack([x, x])\n",
    "sumx = x.sum(dim=-1, keepdim=True)\n",
    "sumx"
   ]
  },
  {
   "cell_type": "code",
   "execution_count": 26,
   "id": "19535af8",
   "metadata": {},
   "outputs": [
    {
     "data": {
      "text/plain": [
       "(tensor([[-2.1113, -0.5264,  0.0000, -1.6144, -0.9955],\n",
       "         [ 0.0000, -1.7270, -1.4226, -1.3898, -1.2882],\n",
       "         [-0.9258, -1.9417, -2.4162,  0.0000, -0.1270],\n",
       "         [-2.1631, -1.5114, -3.2638, -1.2700,  0.0000]]),\n",
       " tensor([[2],\n",
       "         [0],\n",
       "         [3],\n",
       "         [4]]))"
      ]
     },
     "execution_count": 26,
     "metadata": {},
     "output_type": "execute_result"
    }
   ],
   "source": [
    "x = torch.randn((4, 5))\n",
    "mx, midx = x.max(dim=-1, keepdim=True)\n",
    "x-mx, midx"
   ]
  },
  {
   "cell_type": "code",
   "execution_count": 33,
   "id": "1c87682d",
   "metadata": {},
   "outputs": [
    {
     "data": {
      "text/plain": [
       "True"
      ]
     },
     "execution_count": 33,
     "metadata": {},
     "output_type": "execute_result"
    }
   ],
   "source": [
    "x = torch.linspace(0, 2*torch.pi, 100)\n",
    "torch.allclose(x.sin()**2 + x.cos()**2, torch.ones(100))"
   ]
  }
 ],
 "metadata": {
  "kernelspec": {
   "display_name": "whisper",
   "language": "python",
   "name": "python3"
  },
  "language_info": {
   "codemirror_mode": {
    "name": "ipython",
    "version": 3
   },
   "file_extension": ".py",
   "mimetype": "text/x-python",
   "name": "python",
   "nbconvert_exporter": "python",
   "pygments_lexer": "ipython3",
   "version": "3.10.16"
  }
 },
 "nbformat": 4,
 "nbformat_minor": 5
}
